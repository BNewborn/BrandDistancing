{
 "cells": [
  {
   "cell_type": "code",
   "execution_count": 5,
   "metadata": {},
   "outputs": [
    {
     "name": "stderr",
     "output_type": "stream",
     "text": [
      "/Users/brian.newborn/opt/miniconda3/lib/python3.7/site-packages/numpy/lib/arraysetops.py:583: FutureWarning: elementwise comparison failed; returning scalar instead, but in the future will perform elementwise comparison\n",
      "  mask |= (ar1 == a)\n"
     ]
    }
   ],
   "source": [
    "long_data = pd.read_csv(\"2020_GuidBrandMonth_Long.csv\",index_col=0)"
   ]
  },
  {
   "cell_type": "code",
   "execution_count": 6,
   "metadata": {},
   "outputs": [
    {
     "data": {
      "text/html": [
       "<div>\n",
       "<style scoped>\n",
       "    .dataframe tbody tr th:only-of-type {\n",
       "        vertical-align: middle;\n",
       "    }\n",
       "\n",
       "    .dataframe tbody tr th {\n",
       "        vertical-align: top;\n",
       "    }\n",
       "\n",
       "    .dataframe thead th {\n",
       "        text-align: right;\n",
       "    }\n",
       "</style>\n",
       "<table border=\"1\" class=\"dataframe\">\n",
       "  <thead>\n",
       "    <tr style=\"text-align: right;\">\n",
       "      <th></th>\n",
       "      <th>guid</th>\n",
       "      <th>domain</th>\n",
       "      <th>event_detail</th>\n",
       "      <th>month</th>\n",
       "      <th>brand_label</th>\n",
       "      <th>val</th>\n",
       "    </tr>\n",
       "  </thead>\n",
       "  <tbody>\n",
       "    <tr>\n",
       "      <th>0</th>\n",
       "      <td>472179787</td>\n",
       "      <td>homedepot.com</td>\n",
       "      <td>Arrow-T50-1-4-in-Leg-x-3-8-in-Crown-Galvanized...</td>\n",
       "      <td>6.0</td>\n",
       "      <td>HomeDepot</td>\n",
       "      <td>1</td>\n",
       "    </tr>\n",
       "    <tr>\n",
       "      <th>1</th>\n",
       "      <td>481033511</td>\n",
       "      <td>homedepot.com</td>\n",
       "      <td>weeklycirculars.homedepot.com/flyers/homedepotusa</td>\n",
       "      <td>4.0</td>\n",
       "      <td>HomeDepot</td>\n",
       "      <td>1</td>\n",
       "    </tr>\n",
       "    <tr>\n",
       "      <th>2</th>\n",
       "      <td>406650301</td>\n",
       "      <td>homedepot.com</td>\n",
       "      <td>Olympic-Waterguard-5-gal-Clear-Wood-Sealer-552...</td>\n",
       "      <td>4.0</td>\n",
       "      <td>HomeDepot</td>\n",
       "      <td>1</td>\n",
       "    </tr>\n",
       "    <tr>\n",
       "      <th>3</th>\n",
       "      <td>464623660</td>\n",
       "      <td>ford.com</td>\n",
       "      <td>www.fmcdealerns3270.ford.com/w2h/WEB2AJAX.htm ...</td>\n",
       "      <td>4.0</td>\n",
       "      <td>Ford</td>\n",
       "      <td>1</td>\n",
       "    </tr>\n",
       "    <tr>\n",
       "      <th>4</th>\n",
       "      <td>445154915</td>\n",
       "      <td>nike.com</td>\n",
       "      <td>www.nike.com/w/womens-training-gym-shoes-58jto...</td>\n",
       "      <td>4.0</td>\n",
       "      <td>Nike</td>\n",
       "      <td>1</td>\n",
       "    </tr>\n",
       "  </tbody>\n",
       "</table>\n",
       "</div>"
      ],
      "text/plain": [
       "        guid         domain  \\\n",
       "0  472179787  homedepot.com   \n",
       "1  481033511  homedepot.com   \n",
       "2  406650301  homedepot.com   \n",
       "3  464623660       ford.com   \n",
       "4  445154915       nike.com   \n",
       "\n",
       "                                        event_detail  month brand_label  val  \n",
       "0  Arrow-T50-1-4-in-Leg-x-3-8-in-Crown-Galvanized...    6.0   HomeDepot    1  \n",
       "1  weeklycirculars.homedepot.com/flyers/homedepotusa    4.0   HomeDepot    1  \n",
       "2  Olympic-Waterguard-5-gal-Clear-Wood-Sealer-552...    4.0   HomeDepot    1  \n",
       "3  www.fmcdealerns3270.ford.com/w2h/WEB2AJAX.htm ...    4.0        Ford    1  \n",
       "4  www.nike.com/w/womens-training-gym-shoes-58jto...    4.0        Nike    1  "
      ]
     },
     "execution_count": 6,
     "metadata": {},
     "output_type": "execute_result"
    }
   ],
   "source": [
    "long_data.head(5)"
   ]
  },
  {
   "cell_type": "code",
   "execution_count": 9,
   "metadata": {},
   "outputs": [],
   "source": [
    "from sklearn.decomposition import PCA\n",
    "from sklearn.preprocessing import StandardScaler\n",
    "\n",
    "# !pip install jupyter-dash\n",
    "from jupyter_dash import JupyterDash\n",
    "import dash\n",
    "import dash_core_components as dcc\n",
    "import dash_html_components as html\n",
    "import dash_table\n",
    "from dash.dependencies import Input, Output\n",
    "import pandas as pd\n",
    "import plotly.express as px\n",
    "import pickle"
   ]
  },
  {
   "cell_type": "code",
   "execution_count": 14,
   "metadata": {},
   "outputs": [],
   "source": [
    "data_dict = pickle.load(open(\"data_dict.pkl\",\"rb\"))\n",
    "# data_dict[1][2]"
   ]
  },
  {
   "cell_type": "code",
   "execution_count": 16,
   "metadata": {},
   "outputs": [
    {
     "name": "stdout",
     "output_type": "stream",
     "text": [
      "\n"
     ]
    }
   ],
   "source": [
    "data_dict[1][0] #pca dataframe\n",
    "data_dict[1][1] #explained variance\n",
    "data_dict[1][2] #sizes dataframe\n",
    "\n",
    "print()"
   ]
  },
  {
   "cell_type": "code",
   "execution_count": 72,
   "metadata": {},
   "outputs": [
    {
     "name": "stdout",
     "output_type": "stream",
     "text": [
      "Dash app running on http://127.0.0.1:8050/\n"
     ]
    }
   ],
   "source": [
    "external_stylesheets = ['https://codepen.io/chriddyp/pen/bWLwgP.css']\n",
    "app = JupyterDash(__name__, external_stylesheets=external_stylesheets)\n",
    "\n",
    "months = [int(x) for x in sorted(long_data.month.unique())]\n",
    "# print(months)\n",
    "month_min = min(months)\n",
    "month_max = max(months)\n",
    "month_names = [\"Jan\",\"Feb\",\"Mar\",\"Apr\",\"May\",\"June\",\"July\",\"Aug\",\"Sept\",\"Oct\",\"Nov\",\"Dec\"]\n",
    "month_default = 1\n",
    "\n",
    "\n",
    "# fig = px.scatter(data_frame = piv_transformed.reset_index(),x='pca_0',y='pca_1',hover_name='brand_label')\n",
    "\n",
    "definitions_table = pd.DataFrame([\n",
    "    [\"Tesla\",\"tesla.com OR tesla page on cars.com/carmax/kbb\",\"\"]\n",
    "    ,[\"Ford\",\"ford.com OR ford page on cars.com/carmax/kbb\",\"\"]\n",
    "    ,[\"VW\",\"vw.com OR volkswagen page on cars.com/carmax/kbb\",\"\"]\n",
    "    ,[\"Chevrolet\",\"chevrolet.com OR chevrolet page on cars.com/carmax/kbb\",\"\"]\n",
    "    ,[\"HomeDepot\",\"homedepot.com\",\"\"]\n",
    "    ,[\"Lowes\",\"lowes.com\",\"\"]\n",
    "    ,[\"Nike\",\"nike.com\",\"\"]\n",
    "    ,[\"Adidas\",\"adidas.com\",\"\"]\n",
    "    ,[\"Chanel\",\"chanel.com\",\"\"]\n",
    "    ,[\"McDonalds\",\"mcdonalds.com or McD app\",\"\"]\n",
    "    ,[\"WholeFoods\",\"wholefoodsmarket.com\",\"\"]\n",
    "    ,[\"BeyondMeat\",\"beyondmeat.com OR %beyond%meat% product page on Amazon, Walmart, WholeFoods\",\"\"]\n",
    "    ,[\"HarryStyles\",\"\",\"%harry%styles%\"]\n",
    "    ,[\"TaylorSwift\",\"\",\"%taylor%swift%\"]\n",
    "    ,[\"PatrickMahomes\",\"\",\"%patrick%mahomes%\"]\n",
    "],columns=[\"Brand\",\"Site Actions\",\"Search Actions (%=Wildcard)\"])\n",
    "\n",
    "app.layout = html.Div(children=[\n",
    "    html.H1(children='Brand Distancing By Month - 2020'),\n",
    "    html.Label('Months'),\n",
    "    dcc.Slider(\n",
    "        id='month-slider',\n",
    "        min=month_min,\n",
    "        max=month_max,\n",
    "        marks={i: f\"{month_names[int(i)-1]}\" for i in months},\n",
    "        value=month_min\n",
    "    ),\n",
    "    html.Div(id=\"exp-var\"),\n",
    "\n",
    "    dcc.Graph(\n",
    "        id='scatter-plot'\n",
    "    ),\n",
    "    html.H1(children=\"Brand Definitions:\"),\n",
    "    html.Div(dash_table.DataTable(\n",
    "        id='brand-definitions',\n",
    "        columns=[{\"name\": i, \"id\": i} \n",
    "                 for i in definitions_table.columns],\n",
    "        data=definitions_table.to_dict('records'),\n",
    "        style_cell=dict(textAlign='left'),\n",
    "        style_header=dict(backgroundColor=\"paleturquoise\"),\n",
    "        style_data=dict(backgroundColor=\"lavender\")\n",
    "    ))\n",
    "])\n",
    "\n",
    "@app.callback(\n",
    "Output('scatter-plot','figure'),\n",
    "[Input('month-slider','value')]\n",
    ")\n",
    "def update_graph(selected_month):\n",
    "    df_use = data_dict[selected_month][0]\n",
    "    df_size = data_dict[selected_month][2]\n",
    "    df_size.columns=[\"brand_label\",\"size\"]\n",
    "    df_use = df_use.merge(right=df_size,on='brand_label')\n",
    "    \n",
    "    fig = px.scatter(data_frame = df_use\n",
    "                     ,x=col_names[0]\n",
    "                     ,y=col_names[1]\n",
    "                     ,color='brand_label'\n",
    "                     ,text='brand_label'\n",
    "                     ,size='size'\n",
    "                     ,hover_name='brand_label')\n",
    "    fig.update_layout(transition_duration=100)\n",
    "    \n",
    "    return fig\n",
    "\n",
    "@app.callback(\n",
    "Output('exp-var','children'),\n",
    "[Input('month-slider','value')]\n",
    ")\n",
    "def update_exp_var(selected_month):\n",
    "    exp_var = data_dict[selected_month][1]\n",
    "    return f\"Explained Variance this Month: {round(exp_var,4)}\"\n",
    "    \n",
    "    \n",
    "\n",
    "if __name__ == '__main__':\n",
    "    app.run_server(debug=True)"
   ]
  },
  {
   "cell_type": "code",
   "execution_count": null,
   "metadata": {},
   "outputs": [],
   "source": []
  },
  {
   "cell_type": "code",
   "execution_count": null,
   "metadata": {},
   "outputs": [],
   "source": []
  }
 ],
 "metadata": {
  "kernelspec": {
   "display_name": "Python 3",
   "language": "python",
   "name": "python3"
  },
  "language_info": {
   "codemirror_mode": {
    "name": "ipython",
    "version": 3
   },
   "file_extension": ".py",
   "mimetype": "text/x-python",
   "name": "python",
   "nbconvert_exporter": "python",
   "pygments_lexer": "ipython3",
   "version": "3.7.4"
  }
 },
 "nbformat": 4,
 "nbformat_minor": 4
}
